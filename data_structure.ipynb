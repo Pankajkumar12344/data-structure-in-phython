{
  "nbformat": 4,
  "nbformat_minor": 0,
  "metadata": {
    "colab": {
      "provenance": []
    },
    "kernelspec": {
      "name": "python3",
      "display_name": "Python 3"
    },
    "language_info": {
      "name": "python"
    }
  },
  "cells": [
    {
      "cell_type": "code",
      "execution_count": null,
      "metadata": {
        "id": "8GUdMUWUTC9g"
      },
      "outputs": [],
      "source": [
        "# what is data strcuture >> the way of organising and storing the data so it the access of the all data and manuplating the effecting"
      ]
    },
    {
      "cell_type": "code",
      "source": [
        "# list >> it is ordered collection of element that can be any data like integer, float, char in access in the list"
      ],
      "metadata": {
        "id": "I664yyiPTgT3"
      },
      "execution_count": null,
      "outputs": []
    },
    {
      "cell_type": "code",
      "source": [
        "num=[1,2,3,\"pankaj\",\"Rahul\"]\n",
        "type(num)"
      ],
      "metadata": {
        "colab": {
          "base_uri": "https://localhost:8080/"
        },
        "id": "SnCaEGV6Twz5",
        "outputId": "1c7ddc41-7f74-4ad3-d23b-6bc2ca7489aa"
      },
      "execution_count": 2,
      "outputs": [
        {
          "output_type": "execute_result",
          "data": {
            "text/plain": [
              "list"
            ]
          },
          "metadata": {},
          "execution_count": 2
        }
      ]
    },
    {
      "cell_type": "code",
      "source": [
        "num"
      ],
      "metadata": {
        "colab": {
          "base_uri": "https://localhost:8080/"
        },
        "id": "9vKaJJ9UUNu5",
        "outputId": "b3adc9bc-06d6-4d88-8497-69285785f41d"
      },
      "execution_count": 3,
      "outputs": [
        {
          "output_type": "execute_result",
          "data": {
            "text/plain": [
              "[1, 2, 3, 'pankaj', 'Rahul']"
            ]
          },
          "metadata": {},
          "execution_count": 3
        }
      ]
    },
    {
      "cell_type": "code",
      "source": [
        "num[3]"
      ],
      "metadata": {
        "colab": {
          "base_uri": "https://localhost:8080/",
          "height": 36
        },
        "id": "p3J_cwWZUPvQ",
        "outputId": "61f09013-18be-405a-c255-d5efbc9495ad"
      },
      "execution_count": 5,
      "outputs": [
        {
          "output_type": "execute_result",
          "data": {
            "text/plain": [
              "'pankaj'"
            ],
            "application/vnd.google.colaboratory.intrinsic+json": {
              "type": "string"
            }
          },
          "metadata": {},
          "execution_count": 5
        }
      ]
    },
    {
      "cell_type": "code",
      "source": [
        "num[3]=\"Rohit kumar\"\n",
        "num"
      ],
      "metadata": {
        "colab": {
          "base_uri": "https://localhost:8080/"
        },
        "id": "HgTnkStHUUV2",
        "outputId": "877bc0e2-9019-47d1-8849-15d77d5bbcb8"
      },
      "execution_count": 7,
      "outputs": [
        {
          "output_type": "execute_result",
          "data": {
            "text/plain": [
              "[1, 2, 3, 'Rohit kumar', 'Rahul']"
            ]
          },
          "metadata": {},
          "execution_count": 7
        }
      ]
    },
    {
      "cell_type": "code",
      "source": [
        "num.append(\"pwskill\")\n",
        "num"
      ],
      "metadata": {
        "colab": {
          "base_uri": "https://localhost:8080/"
        },
        "id": "K33wvF58Udk1",
        "outputId": "7593a0e7-0651-45b2-e11a-890841681003"
      },
      "execution_count": 9,
      "outputs": [
        {
          "output_type": "execute_result",
          "data": {
            "text/plain": [
              "[1, 2, 3, 'Rohit kumar', 'Rahul', 'pwskill']"
            ]
          },
          "metadata": {},
          "execution_count": 9
        }
      ]
    },
    {
      "cell_type": "code",
      "source": [
        "num.remove(\"Rahul\")"
      ],
      "metadata": {
        "id": "2MWlVGnWVTLk"
      },
      "execution_count": null,
      "outputs": []
    },
    {
      "cell_type": "code",
      "source": [
        "num"
      ],
      "metadata": {
        "colab": {
          "base_uri": "https://localhost:8080/"
        },
        "id": "P6SftY6RVW3H",
        "outputId": "ed6eb6a9-86c1-482c-9998-2753b9f10543"
      },
      "execution_count": 16,
      "outputs": [
        {
          "output_type": "execute_result",
          "data": {
            "text/plain": [
              "[1, 2, 3, 'Rohit kumar', 'pwskill']"
            ]
          },
          "metadata": {},
          "execution_count": 16
        }
      ]
    },
    {
      "cell_type": "code",
      "source": [
        "lis=[[1,2,3],[4,5,6],[7,8,9]]\n",
        "lis\n"
      ],
      "metadata": {
        "colab": {
          "base_uri": "https://localhost:8080/"
        },
        "id": "1Vbf9BXUWB-F",
        "outputId": "0c249e8e-48e1-4b72-acf3-c901e9c61d53"
      },
      "execution_count": 36,
      "outputs": [
        {
          "output_type": "execute_result",
          "data": {
            "text/plain": [
              "[[1, 2, 3], [4, 5, 6], [7, 8, 9]]"
            ]
          },
          "metadata": {},
          "execution_count": 36
        }
      ]
    },
    {
      "cell_type": "code",
      "source": [
        "lis[1][1]"
      ],
      "metadata": {
        "colab": {
          "base_uri": "https://localhost:8080/"
        },
        "id": "mdJWnQdlXChV",
        "outputId": "7a84fe2b-7d4b-49f6-beb2-8aefdb5b429e"
      },
      "execution_count": 37,
      "outputs": [
        {
          "output_type": "execute_result",
          "data": {
            "text/plain": [
              "5"
            ]
          },
          "metadata": {},
          "execution_count": 37
        }
      ]
    },
    {
      "cell_type": "code",
      "source": [
        "shopping_lis=[\"Apple\",\"bannan\",\"orange\",True]"
      ],
      "metadata": {
        "id": "vEPA1EGbXMPo"
      },
      "execution_count": 40,
      "outputs": []
    },
    {
      "cell_type": "code",
      "source": [
        "type(shopping_lis)"
      ],
      "metadata": {
        "colab": {
          "base_uri": "https://localhost:8080/"
        },
        "id": "J_MD78WVXr3N",
        "outputId": "eb0e83c1-42d8-4a0b-b154-f9a5f45bac7a"
      },
      "execution_count": 41,
      "outputs": [
        {
          "output_type": "execute_result",
          "data": {
            "text/plain": [
              "list"
            ]
          },
          "metadata": {},
          "execution_count": 41
        }
      ]
    },
    {
      "cell_type": "code",
      "source": [
        "for list in shopping_lis:\n",
        "  print(list,end=\" \")"
      ],
      "metadata": {
        "colab": {
          "base_uri": "https://localhost:8080/"
        },
        "id": "tXQyzaXCXxMP",
        "outputId": "ed5cdffe-deb1-4d8d-a774-0dc0c1e6e629"
      },
      "execution_count": 44,
      "outputs": [
        {
          "output_type": "stream",
          "name": "stdout",
          "text": [
            "Apple bannan orange True "
          ]
        }
      ]
    },
    {
      "cell_type": "code",
      "source": [
        "#tuple>> is the inmutable of data structure it is not change in the data structure in the item"
      ],
      "metadata": {
        "id": "TKCIEzwLZzXA"
      },
      "execution_count": null,
      "outputs": []
    },
    {
      "cell_type": "code",
      "source": [
        "point =(2,3)\n",
        "type(point)"
      ],
      "metadata": {
        "colab": {
          "base_uri": "https://localhost:8080/"
        },
        "id": "TTyoOFjIaF_6",
        "outputId": "45ff5781-0b80-4232-d2d1-d7c85687e4af"
      },
      "execution_count": 47,
      "outputs": [
        {
          "output_type": "execute_result",
          "data": {
            "text/plain": [
              "tuple"
            ]
          },
          "metadata": {},
          "execution_count": 47
        }
      ]
    },
    {
      "cell_type": "code",
      "source": [
        "point =(\"apple\",1,2,3)\n",
        "point"
      ],
      "metadata": {
        "colab": {
          "base_uri": "https://localhost:8080/"
        },
        "id": "gaT5_sK2aOOG",
        "outputId": "9499965d-cc24-4925-8b24-5aba91a41b92"
      },
      "execution_count": 48,
      "outputs": [
        {
          "output_type": "execute_result",
          "data": {
            "text/plain": [
              "('apple', 1, 2, 3)"
            ]
          },
          "metadata": {},
          "execution_count": 48
        }
      ]
    },
    {
      "cell_type": "code",
      "source": [
        "point[0]"
      ],
      "metadata": {
        "colab": {
          "base_uri": "https://localhost:8080/",
          "height": 36
        },
        "id": "snn0gZ02aZiR",
        "outputId": "11972a4c-caf9-45ac-c253-f06f6a6a1d86"
      },
      "execution_count": 50,
      "outputs": [
        {
          "output_type": "execute_result",
          "data": {
            "text/plain": [
              "'apple'"
            ],
            "application/vnd.google.colaboratory.intrinsic+json": {
              "type": "string"
            }
          },
          "metadata": {},
          "execution_count": 50
        }
      ]
    },
    {
      "cell_type": "code",
      "source": [
        "box1=(\"a\",\"b\")\n",
        "box2=(\"c\",\"d\")\n",
        "chocalate_bag=(box1,box2)\n",
        "chocalate_bag"
      ],
      "metadata": {
        "colab": {
          "base_uri": "https://localhost:8080/"
        },
        "id": "T0ytWrLqa34I",
        "outputId": "8ba30abd-f6e3-4dba-bb88-fc3685d3652f"
      },
      "execution_count": 53,
      "outputs": [
        {
          "output_type": "execute_result",
          "data": {
            "text/plain": [
              "(('a', 'b'), ('c', 'd'))"
            ]
          },
          "metadata": {},
          "execution_count": 53
        }
      ]
    },
    {
      "cell_type": "code",
      "source": [
        "for bag in chocalate_bag:\n",
        "  for choc in bag:\n",
        "    print(choc)\n",
        "\n"
      ],
      "metadata": {
        "colab": {
          "base_uri": "https://localhost:8080/"
        },
        "id": "hBGpkMCAbCBi",
        "outputId": "0c59f1b1-2937-475b-d88a-41ecf769d0f1"
      },
      "execution_count": 58,
      "outputs": [
        {
          "output_type": "stream",
          "name": "stdout",
          "text": [
            "a\n",
            "b\n",
            "c\n",
            "d\n"
          ]
        }
      ]
    },
    {
      "cell_type": "code",
      "source": [
        "# sets >> are unordered collection of unique element but sets are mulatble element they have change the item but not be access beacuse this is unordered"
      ],
      "metadata": {
        "id": "1W4b7_jnd6Ik"
      },
      "execution_count": null,
      "outputs": []
    },
    {
      "cell_type": "code",
      "source": [
        "a={\"red\",\"blue\",\"blue\"} # this is access of unique element like this example\n",
        "a"
      ],
      "metadata": {
        "colab": {
          "base_uri": "https://localhost:8080/"
        },
        "id": "6X23xEwzeeL9",
        "outputId": "5cded180-0ec9-4ebb-ed05-3e1ab3f3b615"
      },
      "execution_count": 62,
      "outputs": [
        {
          "output_type": "execute_result",
          "data": {
            "text/plain": [
              "{'blue', 'red'}"
            ]
          },
          "metadata": {},
          "execution_count": 62
        }
      ]
    },
    {
      "cell_type": "code",
      "source": [
        "a.add(\"pwskill\")\n",
        "a"
      ],
      "metadata": {
        "colab": {
          "base_uri": "https://localhost:8080/"
        },
        "id": "EOHhiLHnfu6z",
        "outputId": "f4bafd8f-0756-4734-d783-b973c05dbf52"
      },
      "execution_count": 65,
      "outputs": [
        {
          "output_type": "execute_result",
          "data": {
            "text/plain": [
              "{'blue', 'pwskill', 'red'}"
            ]
          },
          "metadata": {},
          "execution_count": 65
        }
      ]
    },
    {
      "cell_type": "code",
      "source": [
        "a.remove(\"red\")\n",
        "a"
      ],
      "metadata": {
        "colab": {
          "base_uri": "https://localhost:8080/"
        },
        "id": "vD8UTfXvgjAF",
        "outputId": "66b97fa2-cea5-45c6-9596-8bff8979b11e"
      },
      "execution_count": 66,
      "outputs": [
        {
          "output_type": "execute_result",
          "data": {
            "text/plain": [
              "{'blue', 'pwskill'}"
            ]
          },
          "metadata": {},
          "execution_count": 66
        }
      ]
    },
    {
      "cell_type": "code",
      "source": [
        "# dictonary >> pair of key. key is unique value in collection  we cannot change of key but change of the key value\n",
        "# snytax {}"
      ],
      "metadata": {
        "id": "_tzRpCpZikGt"
      },
      "execution_count": null,
      "outputs": []
    },
    {
      "cell_type": "code",
      "source": [
        "s ={ \"my_course\": \"data analytics\",\"duration \":2}\n",
        "s"
      ],
      "metadata": {
        "colab": {
          "base_uri": "https://localhost:8080/"
        },
        "id": "nalKDxcgm4Gm",
        "outputId": "8e715b7b-29cb-48de-cbd7-509980ae5c9c"
      },
      "execution_count": 67,
      "outputs": [
        {
          "output_type": "execute_result",
          "data": {
            "text/plain": [
              "{'my_course': 'data analytics', 'duration ': 2}"
            ]
          },
          "metadata": {},
          "execution_count": 67
        }
      ]
    },
    {
      "cell_type": "code",
      "source": [
        "type(s)"
      ],
      "metadata": {
        "colab": {
          "base_uri": "https://localhost:8080/"
        },
        "id": "8HyTSabjnsAJ",
        "outputId": "4f96542d-72b6-48f7-f8d4-ca8268f45528"
      },
      "execution_count": 70,
      "outputs": [
        {
          "output_type": "execute_result",
          "data": {
            "text/plain": [
              "dict"
            ]
          },
          "metadata": {},
          "execution_count": 70
        }
      ]
    },
    {
      "cell_type": "code",
      "source": [
        "phonebook={\"dad\":9815441845,\"brother\":8881537123}\n",
        "phonebook"
      ],
      "metadata": {
        "colab": {
          "base_uri": "https://localhost:8080/"
        },
        "id": "e0BvalKbnuqT",
        "outputId": "acee61f8-f13d-46b3-f8d0-1f7e8ea49921"
      },
      "execution_count": 73,
      "outputs": [
        {
          "output_type": "execute_result",
          "data": {
            "text/plain": [
              "{'dad': 9815441845, 'brother': 8881537123}"
            ]
          },
          "metadata": {},
          "execution_count": 73
        }
      ]
    },
    {
      "cell_type": "code",
      "source": [
        "phonebook[\"dad\"]"
      ],
      "metadata": {
        "colab": {
          "base_uri": "https://localhost:8080/"
        },
        "id": "GX1iJpqqoNtb",
        "outputId": "39b74154-a4fa-4fed-f4ed-e01756942606"
      },
      "execution_count": 74,
      "outputs": [
        {
          "output_type": "execute_result",
          "data": {
            "text/plain": [
              "9815441845"
            ]
          },
          "metadata": {},
          "execution_count": 74
        }
      ]
    },
    {
      "cell_type": "code",
      "source": [
        "phonebook={\"dad\":9815441845,\"brother\":8881537123,\"dad\":1234}\n",
        "phonebook"
      ],
      "metadata": {
        "colab": {
          "base_uri": "https://localhost:8080/"
        },
        "id": "VFKoRoU-ocfy",
        "outputId": "2f788e3b-74b0-46a3-f748-c6b3b31783c7"
      },
      "execution_count": 75,
      "outputs": [
        {
          "output_type": "execute_result",
          "data": {
            "text/plain": [
              "{'dad': 1234, 'brother': 8881537123}"
            ]
          },
          "metadata": {},
          "execution_count": 75
        }
      ]
    },
    {
      "cell_type": "code",
      "source": [
        "phonebook.keys()"
      ],
      "metadata": {
        "colab": {
          "base_uri": "https://localhost:8080/"
        },
        "id": "fn7Gi_GBome-",
        "outputId": "96b19049-a63b-49dd-b09c-b641892aec97"
      },
      "execution_count": 76,
      "outputs": [
        {
          "output_type": "execute_result",
          "data": {
            "text/plain": [
              "dict_keys(['dad', 'brother'])"
            ]
          },
          "metadata": {},
          "execution_count": 76
        }
      ]
    },
    {
      "cell_type": "code",
      "source": [
        "phonebook.values()"
      ],
      "metadata": {
        "colab": {
          "base_uri": "https://localhost:8080/"
        },
        "id": "hMA8yWtrosQ1",
        "outputId": "d8371f3c-80f6-464e-c10c-c076c861b752"
      },
      "execution_count": 78,
      "outputs": [
        {
          "output_type": "execute_result",
          "data": {
            "text/plain": [
              "dict_values([1234, 8881537123])"
            ]
          },
          "metadata": {},
          "execution_count": 78
        }
      ]
    },
    {
      "cell_type": "code",
      "source": [
        "phonebook[\"dad\"]=9877069687\n",
        "phonebook"
      ],
      "metadata": {
        "colab": {
          "base_uri": "https://localhost:8080/"
        },
        "id": "ISj5l90koyaW",
        "outputId": "5dfdeaa1-2bb6-4ad7-f363-04bc7ededb19"
      },
      "execution_count": 79,
      "outputs": [
        {
          "output_type": "execute_result",
          "data": {
            "text/plain": [
              "{'dad': 9877069687, 'brother': 8881537123}"
            ]
          },
          "metadata": {},
          "execution_count": 79
        }
      ]
    },
    {
      "cell_type": "code",
      "source": [
        "# array is the homogenius data item access it is very fast then list"
      ],
      "metadata": {
        "id": "gYRSC8dfpELC"
      },
      "execution_count": null,
      "outputs": []
    },
    {
      "cell_type": "code",
      "source": [
        "from array import array"
      ],
      "metadata": {
        "id": "JpAcJPggpcXt"
      },
      "execution_count": null,
      "outputs": []
    },
    {
      "cell_type": "code",
      "source": [
        "a=array.array('i',[1,2,3,4])\n",
        "print(a)\n"
      ],
      "metadata": {
        "colab": {
          "base_uri": "https://localhost:8080/"
        },
        "id": "XcwKxTgCqfn6",
        "outputId": "dec48933-2ef9-41ee-ce63-75b263859c93"
      },
      "execution_count": 101,
      "outputs": [
        {
          "output_type": "stream",
          "name": "stdout",
          "text": [
            "array('i', [1, 2, 3, 4])\n"
          ]
        }
      ]
    },
    {
      "cell_type": "code",
      "source": [
        "a[1]"
      ],
      "metadata": {
        "colab": {
          "base_uri": "https://localhost:8080/"
        },
        "id": "xdp6u2UVrg-w",
        "outputId": "23627ea2-bb3b-441c-abfd-37653daae287"
      },
      "execution_count": 100,
      "outputs": [
        {
          "output_type": "execute_result",
          "data": {
            "text/plain": [
              "2"
            ]
          },
          "metadata": {},
          "execution_count": 100
        }
      ]
    }
  ]
}